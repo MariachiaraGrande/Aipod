{
 "cells": [
  {
   "cell_type": "markdown",
   "metadata": {},
   "source": [
    "## Data Visualization Interface\n",
    "\n",
    "This notebook is designed to facilitate the use of AIDOX - Module III: Data Visualization\\\n",
    "No changes need to be made to the VisualizationInterface class\\\n",
    "**The user is invited to run the following cells** to visualize the expected results obtained according to _opt_visualization_pydantic.yml_ file"
   ]
  },
  {
   "cell_type": "code",
   "execution_count": 1,
   "metadata": {},
   "outputs": [
    {
     "name": "stderr",
     "output_type": "stream",
     "text": [
      "/opt/anaconda3/envs/laser_opt/lib/python3.11/site-packages/tqdm/auto.py:21: TqdmWarning: IProgress not found. Please update jupyter and ipywidgets. See https://ipywidgets.readthedocs.io/en/stable/user_install.html\n",
      "  from .autonotebook import tqdm as notebook_tqdm\n"
     ]
    }
   ],
   "source": [
    "import yaml\n",
    "from aidox.models.pydantic_models_visualization import DataModel, InputFeature, OutputFeature\n",
    "from aidox.optimization.handler_visualization import Visualization"
   ]
  },
  {
   "cell_type": "code",
   "execution_count": 2,
   "metadata": {},
   "outputs": [],
   "source": [
    "with open ('../../../configs/opt_visualization_pydantic.yml', 'r') as data_config:\n",
    "    data_graph_cont = yaml.safe_load(data_config)\n",
    "\n",
    "class VisualizationInterface():\n",
    "    \"\"\" \n",
    "    This class reads the given yaml configuration file and \n",
    "    returns the corresponding ModelTraining object\n",
    "        \n",
    "    :param data_model_path: yaml configuration file path\n",
    "    :return: DataModel object\n",
    "    \"\"\"\n",
    "    def __init__(self, data_model_path):\n",
    "        with open(data_model_path, 'r') as data_config:\n",
    "            data_graph_cont = yaml.safe_load(data_config)\n",
    "        self.dataframe = self.__init_df(data_graph_cont)\n",
    "        self.input_list = self.__init_inputs(data_graph_cont)\n",
    "        self.output_list = self.__init_outputs(data_graph_cont)\n",
    "\n",
    "    def __call__(self):\n",
    "        return DataModel(dataframe = self.dataframe, input_vars=self.input_list, output_vars=self.output_list)\n",
    "    def __init_df(self, data_graph_cont:dict) -> str:\n",
    "        dataframe = data_graph_cont['dataframe']\n",
    "        return dataframe\n",
    "    def __init_inputs(self, data_graph_cont:dict) -> list[InputFeature]:\n",
    "        list_of_input_dicts = data_graph_cont['input_vars']\n",
    "        return [InputFeature(**variable) for variable in list_of_input_dicts]\n",
    "    def __init_outputs(self, data_graph_cont:dict) -> list[OutputFeature]:\n",
    "        list_of_output_dicts = data_graph_cont['output_vars']\n",
    "        return [OutputFeature(**variable) for variable in list_of_output_dicts]\n"
   ]
  },
  {
   "cell_type": "code",
   "execution_count": 3,
   "metadata": {},
   "outputs": [],
   "source": [
    "data_graph_cont = VisualizationInterface('../../../configs/opt_visualization_pydantic.yml')()\n",
    "graph = Visualization(data = data_graph_cont )\n"
   ]
  },
  {
   "cell_type": "code",
   "execution_count": 4,
   "metadata": {},
   "outputs": [
    {
     "data": {
      "application/vnd.plotly.v1+json": {
       "config": {
        "plotlyServerURL": "https://plot.ly"
       },
       "data": [
        {
         "hovertemplate": "variable=Output1<br>C=240<br>A=50<br>D=%{x}<br>value=%{y}<extra></extra>",
         "legendgroup": "Output1",
         "marker": {
          "color": "#636efa",
          "symbol": "circle"
         },
         "mode": "markers",
         "name": "Output1",
         "orientation": "v",
         "showlegend": true,
         "type": "scatter",
         "x": [
          90,
          50,
          30,
          110,
          70
         ],
         "xaxis": "x7",
         "y": [
          27.088,
          18.908,
          14.546,
          21.81,
          23.636
         ],
         "yaxis": "y7"
        },
        {
         "hovertemplate": "variable=Output1<br>C=240<br>A=75<br>D=%{x}<br>value=%{y}<extra></extra>",
         "legendgroup": "Output1",
         "marker": {
          "color": "#636efa",
          "symbol": "circle"
         },
         "mode": "markers",
         "name": "Output1",
         "orientation": "v",
         "showlegend": false,
         "type": "scatter",
         "x": [
          110,
          30,
          70,
          90,
          50
         ],
         "xaxis": "x8",
         "y": [
          29.306,
          17.016,
          27.586,
          28.2,
          25.518
         ],
         "yaxis": "y8"
        },
        {
         "hovertemplate": "variable=Output1<br>C=240<br>A=100<br>D=%{x}<br>value=%{y}<extra></extra>",
         "legendgroup": "Output1",
         "marker": {
          "color": "#636efa",
          "symbol": "circle"
         },
         "mode": "markers",
         "name": "Output1",
         "orientation": "v",
         "showlegend": false,
         "type": "scatter",
         "x": [
          30,
          50,
          70,
          110,
          90
         ],
         "xaxis": "x9",
         "y": [
          17.534,
          23.716,
          30.94,
          40.218,
          34.026
         ],
         "yaxis": "y9"
        },
        {
         "hovertemplate": "variable=Output1<br>C=3880<br>A=50<br>D=%{x}<br>value=%{y}<extra></extra>",
         "legendgroup": "Output1",
         "marker": {
          "color": "#636efa",
          "symbol": "circle"
         },
         "mode": "markers",
         "name": "Output1",
         "orientation": "v",
         "showlegend": false,
         "type": "scatter",
         "x": [
          70,
          110,
          90,
          30,
          50
         ],
         "xaxis": "x4",
         "y": [
          20.884,
          23.976,
          23.458,
          16.502,
          21.144
         ],
         "yaxis": "y4"
        },
        {
         "hovertemplate": "variable=Output1<br>C=3880<br>A=75<br>D=%{x}<br>value=%{y}<extra></extra>",
         "legendgroup": "Output1",
         "marker": {
          "color": "#636efa",
          "symbol": "circle"
         },
         "mode": "markers",
         "name": "Output1",
         "orientation": "v",
         "showlegend": false,
         "type": "scatter",
         "x": [
          50,
          90,
          70,
          30,
          110
         ],
         "xaxis": "x5",
         "y": [
          23.23,
          27.358,
          25.294,
          18.328,
          29.672
         ],
         "yaxis": "y5"
        },
        {
         "hovertemplate": "variable=Output1<br>C=3880<br>A=100<br>D=%{x}<br>value=%{y}<extra></extra>",
         "legendgroup": "Output1",
         "marker": {
          "color": "#636efa",
          "symbol": "circle"
         },
         "mode": "markers",
         "name": "Output1",
         "orientation": "v",
         "showlegend": false,
         "type": "scatter",
         "x": [
          70,
          30,
          50,
          90,
          110
         ],
         "xaxis": "x6",
         "y": [
          27.606,
          20.916,
          25.8,
          31.992,
          34.572
         ],
         "yaxis": "y6"
        },
        {
         "hovertemplate": "variable=Output1<br>C=8000<br>A=50<br>D=%{x}<br>value=%{y}<extra></extra>",
         "legendgroup": "Output1",
         "marker": {
          "color": "#636efa",
          "symbol": "circle"
         },
         "mode": "markers",
         "name": "Output1",
         "orientation": "v",
         "showlegend": false,
         "type": "scatter",
         "x": [
          70,
          30,
          110,
          90,
          50
         ],
         "xaxis": "x",
         "y": [
          22.972,
          15.49,
          24.51,
          21.94,
          18.586
         ],
         "yaxis": "y"
        },
        {
         "hovertemplate": "variable=Output1<br>C=8000<br>A=75<br>D=%{x}<br>value=%{y}<extra></extra>",
         "legendgroup": "Output1",
         "marker": {
          "color": "#636efa",
          "symbol": "circle"
         },
         "mode": "markers",
         "name": "Output1",
         "orientation": "v",
         "showlegend": false,
         "type": "scatter",
         "x": [
          70,
          50,
          90,
          110,
          30
         ],
         "xaxis": "x2",
         "y": [
          23.2,
          21.394,
          27.07,
          30.414,
          18.3
         ],
         "yaxis": "y2"
        },
        {
         "hovertemplate": "variable=Output1<br>C=8000<br>A=100<br>D=%{x}<br>value=%{y}<extra></extra>",
         "legendgroup": "Output1",
         "marker": {
          "color": "#636efa",
          "symbol": "circle"
         },
         "mode": "markers",
         "name": "Output1",
         "orientation": "v",
         "showlegend": false,
         "type": "scatter",
         "x": [
          50,
          30,
          90,
          110,
          70
         ],
         "xaxis": "x3",
         "y": [
          24.758,
          17.018,
          33.014,
          35.078,
          27.338
         ],
         "yaxis": "y3"
        },
        {
         "hovertemplate": "variable=Output1_pred<br>C=240<br>A=50<br>D=%{x}<br>value=%{y}<extra></extra>",
         "legendgroup": "Output1_pred",
         "marker": {
          "color": "#EF553B",
          "symbol": "circle"
         },
         "mode": "markers",
         "name": "Output1_pred",
         "orientation": "v",
         "showlegend": true,
         "type": "scatter",
         "x": [
          90,
          50,
          30,
          110,
          70
         ],
         "xaxis": "x7",
         "y": [
          26.57117499999999,
          20.53972499999998,
          15.41537500000002,
          23.84769999999997,
          26.61112499999999
         ],
         "yaxis": "y7"
        },
        {
         "hovertemplate": "variable=Output1_pred<br>C=240<br>A=75<br>D=%{x}<br>value=%{y}<extra></extra>",
         "legendgroup": "Output1_pred",
         "marker": {
          "color": "#EF553B",
          "symbol": "circle"
         },
         "mode": "markers",
         "name": "Output1_pred",
         "orientation": "v",
         "showlegend": false,
         "type": "scatter",
         "x": [
          110,
          30,
          70,
          90,
          50
         ],
         "xaxis": "x8",
         "y": [
          27.61197500000001,
          16.55515000000001,
          27.599925,
          28.06337500000001,
          21.17442499999999
         ],
         "yaxis": "y8"
        },
        {
         "hovertemplate": "variable=Output1_pred<br>C=240<br>A=100<br>D=%{x}<br>value=%{y}<extra></extra>",
         "legendgroup": "Output1_pred",
         "marker": {
          "color": "#EF553B",
          "symbol": "circle"
         },
         "mode": "markers",
         "name": "Output1_pred",
         "orientation": "v",
         "showlegend": false,
         "type": "scatter",
         "x": [
          30,
          50,
          70,
          110,
          90
         ],
         "xaxis": "x9",
         "y": [
          17.49435000000001,
          23.79024999999997,
          29.22635000000001,
          28.29925000000001,
          29.14495000000002
         ],
         "yaxis": "y9"
        },
        {
         "hovertemplate": "variable=Output1_pred<br>C=3880<br>A=50<br>D=%{x}<br>value=%{y}<extra></extra>",
         "legendgroup": "Output1_pred",
         "marker": {
          "color": "#EF553B",
          "symbol": "circle"
         },
         "mode": "markers",
         "name": "Output1_pred",
         "orientation": "v",
         "showlegend": false,
         "type": "scatter",
         "x": [
          70,
          110,
          90,
          30,
          50
         ],
         "xaxis": "x4",
         "y": [
          21.86352500000001,
          24.11432500000002,
          24.45400000000001,
          17.62454999999999,
          22.43689999999999
         ],
         "yaxis": "y4"
        },
        {
         "hovertemplate": "variable=Output1_pred<br>C=3880<br>A=75<br>D=%{x}<br>value=%{y}<extra></extra>",
         "legendgroup": "Output1_pred",
         "marker": {
          "color": "#EF553B",
          "symbol": "circle"
         },
         "mode": "markers",
         "name": "Output1_pred",
         "orientation": "v",
         "showlegend": false,
         "type": "scatter",
         "x": [
          50,
          90,
          70,
          30,
          110
         ],
         "xaxis": "x5",
         "y": [
          22.93235,
          26.81652499999998,
          24.86575000000004,
          18.62087499999999,
          25.44797499999999
         ],
         "yaxis": "y5"
        },
        {
         "hovertemplate": "variable=Output1_pred<br>C=3880<br>A=100<br>D=%{x}<br>value=%{y}<extra></extra>",
         "legendgroup": "Output1_pred",
         "marker": {
          "color": "#EF553B",
          "symbol": "circle"
         },
         "mode": "markers",
         "name": "Output1_pred",
         "orientation": "v",
         "showlegend": false,
         "type": "scatter",
         "x": [
          70,
          30,
          50,
          90,
          110
         ],
         "xaxis": "x6",
         "y": [
          26.89930000000001,
          19.67345,
          24.91569999999999,
          32.1526,
          32.04062499999999
         ],
         "yaxis": "y6"
        },
        {
         "hovertemplate": "variable=Output1_pred<br>C=8000<br>A=50<br>D=%{x}<br>value=%{y}<extra></extra>",
         "legendgroup": "Output1_pred",
         "marker": {
          "color": "#EF553B",
          "symbol": "circle"
         },
         "mode": "markers",
         "name": "Output1_pred",
         "orientation": "v",
         "showlegend": false,
         "type": "scatter",
         "x": [
          70,
          30,
          110,
          90,
          50
         ],
         "xaxis": "x",
         "y": [
          22.56657499999999,
          16.277375,
          24.93469999999999,
          25.18852500000001,
          22.00435
         ],
         "yaxis": "y"
        },
        {
         "hovertemplate": "variable=Output1_pred<br>C=8000<br>A=75<br>D=%{x}<br>value=%{y}<extra></extra>",
         "legendgroup": "Output1_pred",
         "marker": {
          "color": "#EF553B",
          "symbol": "circle"
         },
         "mode": "markers",
         "name": "Output1_pred",
         "orientation": "v",
         "showlegend": false,
         "type": "scatter",
         "x": [
          70,
          50,
          90,
          110,
          30
         ],
         "xaxis": "x2",
         "y": [
          23.80077500000003,
          22.32080000000001,
          27.06185,
          25.97689999999999,
          17.091975
         ],
         "yaxis": "y2"
        },
        {
         "hovertemplate": "variable=Output1_pred<br>C=8000<br>A=100<br>D=%{x}<br>value=%{y}<extra></extra>",
         "legendgroup": "Output1_pred",
         "marker": {
          "color": "#EF553B",
          "symbol": "circle"
         },
         "mode": "markers",
         "name": "Output1_pred",
         "orientation": "v",
         "showlegend": false,
         "type": "scatter",
         "x": [
          50,
          30,
          90,
          110,
          70
         ],
         "xaxis": "x3",
         "y": [
          24.39370000000001,
          17.90365000000001,
          32.65429999999999,
          32.77702499999999,
          25.46552500000002
         ],
         "yaxis": "y3"
        }
       ],
       "layout": {
        "annotations": [
         {
          "font": {},
          "showarrow": false,
          "text": "A=50",
          "x": 0.13,
          "xanchor": "center",
          "xref": "paper",
          "y": 1,
          "yanchor": "bottom",
          "yref": "paper"
         },
         {
          "font": {},
          "showarrow": false,
          "text": "A=75",
          "x": 0.49,
          "xanchor": "center",
          "xref": "paper",
          "y": 1,
          "yanchor": "bottom",
          "yref": "paper"
         },
         {
          "font": {},
          "showarrow": false,
          "text": "A=100",
          "x": 0.85,
          "xanchor": "center",
          "xref": "paper",
          "y": 1,
          "yanchor": "bottom",
          "yref": "paper"
         },
         {
          "font": {},
          "showarrow": false,
          "text": "C=8000",
          "textangle": 90,
          "x": 0.98,
          "xanchor": "left",
          "xref": "paper",
          "y": 0.14666666666666667,
          "yanchor": "middle",
          "yref": "paper"
         },
         {
          "font": {},
          "showarrow": false,
          "text": "C=3880",
          "textangle": 90,
          "x": 0.98,
          "xanchor": "left",
          "xref": "paper",
          "y": 0.5,
          "yanchor": "middle",
          "yref": "paper"
         },
         {
          "font": {},
          "showarrow": false,
          "text": "C=240",
          "textangle": 90,
          "x": 0.98,
          "xanchor": "left",
          "xref": "paper",
          "y": 0.8533333333333333,
          "yanchor": "middle",
          "yref": "paper"
         }
        ],
        "height": 1000,
        "legend": {
         "title": {
          "text": "variable"
         },
         "tracegroupgap": 0
        },
        "template": {
         "data": {
          "bar": [
           {
            "error_x": {
             "color": "#2a3f5f"
            },
            "error_y": {
             "color": "#2a3f5f"
            },
            "marker": {
             "line": {
              "color": "#E5ECF6",
              "width": 0.5
             },
             "pattern": {
              "fillmode": "overlay",
              "size": 10,
              "solidity": 0.2
             }
            },
            "type": "bar"
           }
          ],
          "barpolar": [
           {
            "marker": {
             "line": {
              "color": "#E5ECF6",
              "width": 0.5
             },
             "pattern": {
              "fillmode": "overlay",
              "size": 10,
              "solidity": 0.2
             }
            },
            "type": "barpolar"
           }
          ],
          "carpet": [
           {
            "aaxis": {
             "endlinecolor": "#2a3f5f",
             "gridcolor": "white",
             "linecolor": "white",
             "minorgridcolor": "white",
             "startlinecolor": "#2a3f5f"
            },
            "baxis": {
             "endlinecolor": "#2a3f5f",
             "gridcolor": "white",
             "linecolor": "white",
             "minorgridcolor": "white",
             "startlinecolor": "#2a3f5f"
            },
            "type": "carpet"
           }
          ],
          "choropleth": [
           {
            "colorbar": {
             "outlinewidth": 0,
             "ticks": ""
            },
            "type": "choropleth"
           }
          ],
          "contour": [
           {
            "colorbar": {
             "outlinewidth": 0,
             "ticks": ""
            },
            "colorscale": [
             [
              0,
              "#0d0887"
             ],
             [
              0.1111111111111111,
              "#46039f"
             ],
             [
              0.2222222222222222,
              "#7201a8"
             ],
             [
              0.3333333333333333,
              "#9c179e"
             ],
             [
              0.4444444444444444,
              "#bd3786"
             ],
             [
              0.5555555555555556,
              "#d8576b"
             ],
             [
              0.6666666666666666,
              "#ed7953"
             ],
             [
              0.7777777777777778,
              "#fb9f3a"
             ],
             [
              0.8888888888888888,
              "#fdca26"
             ],
             [
              1,
              "#f0f921"
             ]
            ],
            "type": "contour"
           }
          ],
          "contourcarpet": [
           {
            "colorbar": {
             "outlinewidth": 0,
             "ticks": ""
            },
            "type": "contourcarpet"
           }
          ],
          "heatmap": [
           {
            "colorbar": {
             "outlinewidth": 0,
             "ticks": ""
            },
            "colorscale": [
             [
              0,
              "#0d0887"
             ],
             [
              0.1111111111111111,
              "#46039f"
             ],
             [
              0.2222222222222222,
              "#7201a8"
             ],
             [
              0.3333333333333333,
              "#9c179e"
             ],
             [
              0.4444444444444444,
              "#bd3786"
             ],
             [
              0.5555555555555556,
              "#d8576b"
             ],
             [
              0.6666666666666666,
              "#ed7953"
             ],
             [
              0.7777777777777778,
              "#fb9f3a"
             ],
             [
              0.8888888888888888,
              "#fdca26"
             ],
             [
              1,
              "#f0f921"
             ]
            ],
            "type": "heatmap"
           }
          ],
          "heatmapgl": [
           {
            "colorbar": {
             "outlinewidth": 0,
             "ticks": ""
            },
            "colorscale": [
             [
              0,
              "#0d0887"
             ],
             [
              0.1111111111111111,
              "#46039f"
             ],
             [
              0.2222222222222222,
              "#7201a8"
             ],
             [
              0.3333333333333333,
              "#9c179e"
             ],
             [
              0.4444444444444444,
              "#bd3786"
             ],
             [
              0.5555555555555556,
              "#d8576b"
             ],
             [
              0.6666666666666666,
              "#ed7953"
             ],
             [
              0.7777777777777778,
              "#fb9f3a"
             ],
             [
              0.8888888888888888,
              "#fdca26"
             ],
             [
              1,
              "#f0f921"
             ]
            ],
            "type": "heatmapgl"
           }
          ],
          "histogram": [
           {
            "marker": {
             "pattern": {
              "fillmode": "overlay",
              "size": 10,
              "solidity": 0.2
             }
            },
            "type": "histogram"
           }
          ],
          "histogram2d": [
           {
            "colorbar": {
             "outlinewidth": 0,
             "ticks": ""
            },
            "colorscale": [
             [
              0,
              "#0d0887"
             ],
             [
              0.1111111111111111,
              "#46039f"
             ],
             [
              0.2222222222222222,
              "#7201a8"
             ],
             [
              0.3333333333333333,
              "#9c179e"
             ],
             [
              0.4444444444444444,
              "#bd3786"
             ],
             [
              0.5555555555555556,
              "#d8576b"
             ],
             [
              0.6666666666666666,
              "#ed7953"
             ],
             [
              0.7777777777777778,
              "#fb9f3a"
             ],
             [
              0.8888888888888888,
              "#fdca26"
             ],
             [
              1,
              "#f0f921"
             ]
            ],
            "type": "histogram2d"
           }
          ],
          "histogram2dcontour": [
           {
            "colorbar": {
             "outlinewidth": 0,
             "ticks": ""
            },
            "colorscale": [
             [
              0,
              "#0d0887"
             ],
             [
              0.1111111111111111,
              "#46039f"
             ],
             [
              0.2222222222222222,
              "#7201a8"
             ],
             [
              0.3333333333333333,
              "#9c179e"
             ],
             [
              0.4444444444444444,
              "#bd3786"
             ],
             [
              0.5555555555555556,
              "#d8576b"
             ],
             [
              0.6666666666666666,
              "#ed7953"
             ],
             [
              0.7777777777777778,
              "#fb9f3a"
             ],
             [
              0.8888888888888888,
              "#fdca26"
             ],
             [
              1,
              "#f0f921"
             ]
            ],
            "type": "histogram2dcontour"
           }
          ],
          "mesh3d": [
           {
            "colorbar": {
             "outlinewidth": 0,
             "ticks": ""
            },
            "type": "mesh3d"
           }
          ],
          "parcoords": [
           {
            "line": {
             "colorbar": {
              "outlinewidth": 0,
              "ticks": ""
             }
            },
            "type": "parcoords"
           }
          ],
          "pie": [
           {
            "automargin": true,
            "type": "pie"
           }
          ],
          "scatter": [
           {
            "fillpattern": {
             "fillmode": "overlay",
             "size": 10,
             "solidity": 0.2
            },
            "type": "scatter"
           }
          ],
          "scatter3d": [
           {
            "line": {
             "colorbar": {
              "outlinewidth": 0,
              "ticks": ""
             }
            },
            "marker": {
             "colorbar": {
              "outlinewidth": 0,
              "ticks": ""
             }
            },
            "type": "scatter3d"
           }
          ],
          "scattercarpet": [
           {
            "marker": {
             "colorbar": {
              "outlinewidth": 0,
              "ticks": ""
             }
            },
            "type": "scattercarpet"
           }
          ],
          "scattergeo": [
           {
            "marker": {
             "colorbar": {
              "outlinewidth": 0,
              "ticks": ""
             }
            },
            "type": "scattergeo"
           }
          ],
          "scattergl": [
           {
            "marker": {
             "colorbar": {
              "outlinewidth": 0,
              "ticks": ""
             }
            },
            "type": "scattergl"
           }
          ],
          "scattermapbox": [
           {
            "marker": {
             "colorbar": {
              "outlinewidth": 0,
              "ticks": ""
             }
            },
            "type": "scattermapbox"
           }
          ],
          "scatterpolar": [
           {
            "marker": {
             "colorbar": {
              "outlinewidth": 0,
              "ticks": ""
             }
            },
            "type": "scatterpolar"
           }
          ],
          "scatterpolargl": [
           {
            "marker": {
             "colorbar": {
              "outlinewidth": 0,
              "ticks": ""
             }
            },
            "type": "scatterpolargl"
           }
          ],
          "scatterternary": [
           {
            "marker": {
             "colorbar": {
              "outlinewidth": 0,
              "ticks": ""
             }
            },
            "type": "scatterternary"
           }
          ],
          "surface": [
           {
            "colorbar": {
             "outlinewidth": 0,
             "ticks": ""
            },
            "colorscale": [
             [
              0,
              "#0d0887"
             ],
             [
              0.1111111111111111,
              "#46039f"
             ],
             [
              0.2222222222222222,
              "#7201a8"
             ],
             [
              0.3333333333333333,
              "#9c179e"
             ],
             [
              0.4444444444444444,
              "#bd3786"
             ],
             [
              0.5555555555555556,
              "#d8576b"
             ],
             [
              0.6666666666666666,
              "#ed7953"
             ],
             [
              0.7777777777777778,
              "#fb9f3a"
             ],
             [
              0.8888888888888888,
              "#fdca26"
             ],
             [
              1,
              "#f0f921"
             ]
            ],
            "type": "surface"
           }
          ],
          "table": [
           {
            "cells": {
             "fill": {
              "color": "#EBF0F8"
             },
             "line": {
              "color": "white"
             }
            },
            "header": {
             "fill": {
              "color": "#C8D4E3"
             },
             "line": {
              "color": "white"
             }
            },
            "type": "table"
           }
          ]
         },
         "layout": {
          "annotationdefaults": {
           "arrowcolor": "#2a3f5f",
           "arrowhead": 0,
           "arrowwidth": 1
          },
          "autotypenumbers": "strict",
          "coloraxis": {
           "colorbar": {
            "outlinewidth": 0,
            "ticks": ""
           }
          },
          "colorscale": {
           "diverging": [
            [
             0,
             "#8e0152"
            ],
            [
             0.1,
             "#c51b7d"
            ],
            [
             0.2,
             "#de77ae"
            ],
            [
             0.3,
             "#f1b6da"
            ],
            [
             0.4,
             "#fde0ef"
            ],
            [
             0.5,
             "#f7f7f7"
            ],
            [
             0.6,
             "#e6f5d0"
            ],
            [
             0.7,
             "#b8e186"
            ],
            [
             0.8,
             "#7fbc41"
            ],
            [
             0.9,
             "#4d9221"
            ],
            [
             1,
             "#276419"
            ]
           ],
           "sequential": [
            [
             0,
             "#0d0887"
            ],
            [
             0.1111111111111111,
             "#46039f"
            ],
            [
             0.2222222222222222,
             "#7201a8"
            ],
            [
             0.3333333333333333,
             "#9c179e"
            ],
            [
             0.4444444444444444,
             "#bd3786"
            ],
            [
             0.5555555555555556,
             "#d8576b"
            ],
            [
             0.6666666666666666,
             "#ed7953"
            ],
            [
             0.7777777777777778,
             "#fb9f3a"
            ],
            [
             0.8888888888888888,
             "#fdca26"
            ],
            [
             1,
             "#f0f921"
            ]
           ],
           "sequentialminus": [
            [
             0,
             "#0d0887"
            ],
            [
             0.1111111111111111,
             "#46039f"
            ],
            [
             0.2222222222222222,
             "#7201a8"
            ],
            [
             0.3333333333333333,
             "#9c179e"
            ],
            [
             0.4444444444444444,
             "#bd3786"
            ],
            [
             0.5555555555555556,
             "#d8576b"
            ],
            [
             0.6666666666666666,
             "#ed7953"
            ],
            [
             0.7777777777777778,
             "#fb9f3a"
            ],
            [
             0.8888888888888888,
             "#fdca26"
            ],
            [
             1,
             "#f0f921"
            ]
           ]
          },
          "colorway": [
           "#636efa",
           "#EF553B",
           "#00cc96",
           "#ab63fa",
           "#FFA15A",
           "#19d3f3",
           "#FF6692",
           "#B6E880",
           "#FF97FF",
           "#FECB52"
          ],
          "font": {
           "color": "#2a3f5f"
          },
          "geo": {
           "bgcolor": "white",
           "lakecolor": "white",
           "landcolor": "#E5ECF6",
           "showlakes": true,
           "showland": true,
           "subunitcolor": "white"
          },
          "hoverlabel": {
           "align": "left"
          },
          "hovermode": "closest",
          "mapbox": {
           "style": "light"
          },
          "paper_bgcolor": "white",
          "plot_bgcolor": "#E5ECF6",
          "polar": {
           "angularaxis": {
            "gridcolor": "white",
            "linecolor": "white",
            "ticks": ""
           },
           "bgcolor": "#E5ECF6",
           "radialaxis": {
            "gridcolor": "white",
            "linecolor": "white",
            "ticks": ""
           }
          },
          "scene": {
           "xaxis": {
            "backgroundcolor": "#E5ECF6",
            "gridcolor": "white",
            "gridwidth": 2,
            "linecolor": "white",
            "showbackground": true,
            "ticks": "",
            "zerolinecolor": "white"
           },
           "yaxis": {
            "backgroundcolor": "#E5ECF6",
            "gridcolor": "white",
            "gridwidth": 2,
            "linecolor": "white",
            "showbackground": true,
            "ticks": "",
            "zerolinecolor": "white"
           },
           "zaxis": {
            "backgroundcolor": "#E5ECF6",
            "gridcolor": "white",
            "gridwidth": 2,
            "linecolor": "white",
            "showbackground": true,
            "ticks": "",
            "zerolinecolor": "white"
           }
          },
          "shapedefaults": {
           "line": {
            "color": "#2a3f5f"
           }
          },
          "ternary": {
           "aaxis": {
            "gridcolor": "white",
            "linecolor": "white",
            "ticks": ""
           },
           "baxis": {
            "gridcolor": "white",
            "linecolor": "white",
            "ticks": ""
           },
           "bgcolor": "#E5ECF6",
           "caxis": {
            "gridcolor": "white",
            "linecolor": "white",
            "ticks": ""
           }
          },
          "title": {
           "x": 0.05
          },
          "xaxis": {
           "automargin": true,
           "gridcolor": "white",
           "linecolor": "white",
           "ticks": "",
           "title": {
            "standoff": 15
           },
           "zerolinecolor": "white",
           "zerolinewidth": 2
          },
          "yaxis": {
           "automargin": true,
           "gridcolor": "white",
           "linecolor": "white",
           "ticks": "",
           "title": {
            "standoff": 15
           },
           "zerolinecolor": "white",
           "zerolinewidth": 2
          }
         }
        },
        "title": {
         "text": "Design Optimization"
        },
        "width": 1000,
        "xaxis": {
         "anchor": "y",
         "domain": [
          0,
          0.26
         ],
         "range": [
          0,
          120
         ],
         "title": {
          "text": "D"
         }
        },
        "xaxis2": {
         "anchor": "y2",
         "domain": [
          0.36,
          0.62
         ],
         "matches": "x",
         "range": [
          0,
          120
         ],
         "title": {
          "text": "D"
         }
        },
        "xaxis3": {
         "anchor": "y3",
         "domain": [
          0.72,
          0.98
         ],
         "matches": "x",
         "range": [
          0,
          120
         ],
         "title": {
          "text": "D"
         }
        },
        "xaxis4": {
         "anchor": "y4",
         "domain": [
          0,
          0.26
         ],
         "matches": "x",
         "showticklabels": false
        },
        "xaxis5": {
         "anchor": "y5",
         "domain": [
          0.36,
          0.62
         ],
         "matches": "x",
         "showticklabels": false
        },
        "xaxis6": {
         "anchor": "y6",
         "domain": [
          0.72,
          0.98
         ],
         "matches": "x",
         "showticklabels": false
        },
        "xaxis7": {
         "anchor": "y7",
         "domain": [
          0,
          0.26
         ],
         "matches": "x",
         "showticklabels": false
        },
        "xaxis8": {
         "anchor": "y8",
         "domain": [
          0.36,
          0.62
         ],
         "matches": "x",
         "showticklabels": false
        },
        "xaxis9": {
         "anchor": "y9",
         "domain": [
          0.72,
          0.98
         ],
         "matches": "x",
         "showticklabels": false
        },
        "yaxis": {
         "anchor": "x",
         "domain": [
          0,
          0.29333333333333333
         ],
         "range": [
          0,
          70
         ],
         "title": {
          "text": "value"
         }
        },
        "yaxis2": {
         "anchor": "x2",
         "domain": [
          0,
          0.29333333333333333
         ],
         "matches": "y",
         "showticklabels": false
        },
        "yaxis3": {
         "anchor": "x3",
         "domain": [
          0,
          0.29333333333333333
         ],
         "matches": "y",
         "showticklabels": false
        },
        "yaxis4": {
         "anchor": "x4",
         "domain": [
          0.35333333333333333,
          0.6466666666666667
         ],
         "matches": "y",
         "title": {
          "text": "value"
         }
        },
        "yaxis5": {
         "anchor": "x5",
         "domain": [
          0.35333333333333333,
          0.6466666666666667
         ],
         "matches": "y",
         "showticklabels": false
        },
        "yaxis6": {
         "anchor": "x6",
         "domain": [
          0.35333333333333333,
          0.6466666666666667
         ],
         "matches": "y",
         "showticklabels": false
        },
        "yaxis7": {
         "anchor": "x7",
         "domain": [
          0.7066666666666667,
          1
         ],
         "matches": "y",
         "title": {
          "text": "value"
         }
        },
        "yaxis8": {
         "anchor": "x8",
         "domain": [
          0.7066666666666667,
          1
         ],
         "matches": "y",
         "showticklabels": false
        },
        "yaxis9": {
         "anchor": "x9",
         "domain": [
          0.7066666666666667,
          1
         ],
         "matches": "y",
         "showticklabels": false
        }
       }
      }
     },
     "metadata": {},
     "output_type": "display_data"
    }
   ],
   "source": [
    "graph.scatter_plot(x = 'D', y = ['Output1', 'Output1_pred'], col = 'A', row = 'C', orders = {'A': [50, 75, 100],'C': [240,3880,8000]}, title = 'Design Optimization')"
   ]
  },
  {
   "cell_type": "code",
   "execution_count": 5,
   "metadata": {},
   "outputs": [
    {
     "data": {
      "application/vnd.plotly.v1+json": {
       "config": {
        "plotlyServerURL": "https://plot.ly"
       },
       "data": [
        {
         "hovertemplate": "variable=Output2<br>C=240<br>A=50<br>D=%{x}<br>value=%{y}<extra></extra>",
         "legendgroup": "Output2",
         "marker": {
          "color": "#636efa",
          "symbol": "circle"
         },
         "mode": "markers",
         "name": "Output2",
         "orientation": "v",
         "showlegend": true,
         "type": "scatter",
         "x": [
          90,
          50,
          30,
          110,
          70
         ],
         "xaxis": "x7",
         "y": [
          49.322,
          21.644,
          5.398,
          55.99,
          34.97000000000001
         ],
         "yaxis": "y7"
        },
        {
         "hovertemplate": "variable=Output2<br>C=240<br>A=75<br>D=%{x}<br>value=%{y}<extra></extra>",
         "legendgroup": "Output2",
         "marker": {
          "color": "#636efa",
          "symbol": "circle"
         },
         "mode": "markers",
         "name": "Output2",
         "orientation": "v",
         "showlegend": false,
         "type": "scatter",
         "x": [
          110,
          30,
          70,
          90,
          50
         ],
         "xaxis": "x8",
         "y": [
          63.47000000000001,
          5.93,
          37.986,
          51.786,
          24.664
         ],
         "yaxis": "y8"
        },
        {
         "hovertemplate": "variable=Output2<br>C=240<br>A=100<br>D=%{x}<br>value=%{y}<extra></extra>",
         "legendgroup": "Output2",
         "marker": {
          "color": "#636efa",
          "symbol": "circle"
         },
         "mode": "markers",
         "name": "Output2",
         "orientation": "v",
         "showlegend": false,
         "type": "scatter",
         "x": [
          30,
          50,
          70,
          110,
          90
         ],
         "xaxis": "x9",
         "y": [
          6.304,
          24.09,
          38.206,
          66.134,
          52.67
         ],
         "yaxis": "y9"
        },
        {
         "hovertemplate": "variable=Output2<br>C=3880<br>A=50<br>D=%{x}<br>value=%{y}<extra></extra>",
         "legendgroup": "Output2",
         "marker": {
          "color": "#636efa",
          "symbol": "circle"
         },
         "mode": "markers",
         "name": "Output2",
         "orientation": "v",
         "showlegend": false,
         "type": "scatter",
         "x": [
          70,
          110,
          90,
          30,
          50
         ],
         "xaxis": "x4",
         "y": [
          18.97,
          34.398,
          26.786,
          4.016,
          12.516
         ],
         "yaxis": "y4"
        },
        {
         "hovertemplate": "variable=Output2<br>C=3880<br>A=75<br>D=%{x}<br>value=%{y}<extra></extra>",
         "legendgroup": "Output2",
         "marker": {
          "color": "#636efa",
          "symbol": "circle"
         },
         "mode": "markers",
         "name": "Output2",
         "orientation": "v",
         "showlegend": false,
         "type": "scatter",
         "x": [
          50,
          90,
          70,
          30,
          110
         ],
         "xaxis": "x5",
         "y": [
          14.054,
          29.95800000000001,
          23.394,
          3.432,
          35.064
         ],
         "yaxis": "y5"
        },
        {
         "hovertemplate": "variable=Output2<br>C=3880<br>A=100<br>D=%{x}<br>value=%{y}<extra></extra>",
         "legendgroup": "Output2",
         "marker": {
          "color": "#636efa",
          "symbol": "circle"
         },
         "mode": "markers",
         "name": "Output2",
         "orientation": "v",
         "showlegend": false,
         "type": "scatter",
         "x": [
          70,
          30,
          50,
          90,
          110
         ],
         "xaxis": "x6",
         "y": [
          24.968,
          4.552,
          15.22,
          30.65,
          38.714
         ],
         "yaxis": "y6"
        },
        {
         "hovertemplate": "variable=Output2<br>C=8000<br>A=50<br>D=%{x}<br>value=%{y}<extra></extra>",
         "legendgroup": "Output2",
         "marker": {
          "color": "#636efa",
          "symbol": "circle"
         },
         "mode": "markers",
         "name": "Output2",
         "orientation": "v",
         "showlegend": false,
         "type": "scatter",
         "x": [
          70,
          30,
          110,
          90,
          50
         ],
         "xaxis": "x",
         "y": [
          17.02,
          3.3,
          30.258,
          24.738,
          10.46
         ],
         "yaxis": "y"
        },
        {
         "hovertemplate": "variable=Output2<br>C=8000<br>A=75<br>D=%{x}<br>value=%{y}<extra></extra>",
         "legendgroup": "Output2",
         "marker": {
          "color": "#636efa",
          "symbol": "circle"
         },
         "mode": "markers",
         "name": "Output2",
         "orientation": "v",
         "showlegend": false,
         "type": "scatter",
         "x": [
          70,
          50,
          90,
          110,
          30
         ],
         "xaxis": "x2",
         "y": [
          20.622,
          11.812,
          27.406,
          31.86799999999999,
          3.613999999999999
         ],
         "yaxis": "y2"
        },
        {
         "hovertemplate": "variable=Output2<br>C=8000<br>A=100<br>D=%{x}<br>value=%{y}<extra></extra>",
         "legendgroup": "Output2",
         "marker": {
          "color": "#636efa",
          "symbol": "circle"
         },
         "mode": "markers",
         "name": "Output2",
         "orientation": "v",
         "showlegend": false,
         "type": "scatter",
         "x": [
          50,
          30,
          90,
          110,
          70
         ],
         "xaxis": "x3",
         "y": [
          13.878,
          3.830000000000001,
          29.508,
          33.624,
          23.12
         ],
         "yaxis": "y3"
        },
        {
         "hovertemplate": "variable=Output2_pred<br>C=240<br>A=50<br>D=%{x}<br>value=%{y}<extra></extra>",
         "legendgroup": "Output2_pred",
         "marker": {
          "color": "#EF553B",
          "symbol": "circle"
         },
         "mode": "markers",
         "name": "Output2_pred",
         "orientation": "v",
         "showlegend": true,
         "type": "scatter",
         "x": [
          90,
          50,
          30,
          110,
          70
         ],
         "xaxis": "x7",
         "y": [
          45.77250000000005,
          21.132575,
          5.380075000000004,
          54.44964999999993,
          37.65002500000001
         ],
         "yaxis": "y7"
        },
        {
         "hovertemplate": "variable=Output2_pred<br>C=240<br>A=75<br>D=%{x}<br>value=%{y}<extra></extra>",
         "legendgroup": "Output2_pred",
         "marker": {
          "color": "#EF553B",
          "symbol": "circle"
         },
         "mode": "markers",
         "name": "Output2_pred",
         "orientation": "v",
         "showlegend": false,
         "type": "scatter",
         "x": [
          110,
          30,
          70,
          90,
          50
         ],
         "xaxis": "x8",
         "y": [
          57.19369999999994,
          5.642350000000004,
          38.164775,
          48.60695,
          20.57425
         ],
         "yaxis": "y8"
        },
        {
         "hovertemplate": "variable=Output2_pred<br>C=240<br>A=100<br>D=%{x}<br>value=%{y}<extra></extra>",
         "legendgroup": "Output2_pred",
         "marker": {
          "color": "#EF553B",
          "symbol": "circle"
         },
         "mode": "markers",
         "name": "Output2_pred",
         "orientation": "v",
         "showlegend": false,
         "type": "scatter",
         "x": [
          30,
          50,
          70,
          110,
          90
         ],
         "xaxis": "x9",
         "y": [
          5.917174999999995,
          21.85242499999999,
          37.52912500000001,
          56.27907499999994,
          47.76512500000001
         ],
         "yaxis": "y9"
        },
        {
         "hovertemplate": "variable=Output2_pred<br>C=3880<br>A=50<br>D=%{x}<br>value=%{y}<extra></extra>",
         "legendgroup": "Output2_pred",
         "marker": {
          "color": "#EF553B",
          "symbol": "circle"
         },
         "mode": "markers",
         "name": "Output2_pred",
         "orientation": "v",
         "showlegend": false,
         "type": "scatter",
         "x": [
          70,
          110,
          90,
          30,
          50
         ],
         "xaxis": "x4",
         "y": [
          19.91702500000002,
          33.61395,
          28.23230000000003,
          4.009175000000001,
          15.556
         ],
         "yaxis": "y4"
        },
        {
         "hovertemplate": "variable=Output2_pred<br>C=3880<br>A=75<br>D=%{x}<br>value=%{y}<extra></extra>",
         "legendgroup": "Output2_pred",
         "marker": {
          "color": "#EF553B",
          "symbol": "circle"
         },
         "mode": "markers",
         "name": "Output2_pred",
         "orientation": "v",
         "showlegend": false,
         "type": "scatter",
         "x": [
          50,
          90,
          70,
          30,
          110
         ],
         "xaxis": "x5",
         "y": [
          14.701375,
          29.21560000000003,
          22.91645,
          4.03875,
          33.76277500000002
         ],
         "yaxis": "y5"
        },
        {
         "hovertemplate": "variable=Output2_pred<br>C=3880<br>A=100<br>D=%{x}<br>value=%{y}<extra></extra>",
         "legendgroup": "Output2_pred",
         "marker": {
          "color": "#EF553B",
          "symbol": "circle"
         },
         "mode": "markers",
         "name": "Output2_pred",
         "orientation": "v",
         "showlegend": false,
         "type": "scatter",
         "x": [
          70,
          30,
          50,
          90,
          110
         ],
         "xaxis": "x6",
         "y": [
          24.58315000000002,
          4.414375,
          16.24377500000001,
          30.25037500000003,
          33.69094999999999
         ],
         "yaxis": "y6"
        },
        {
         "hovertemplate": "variable=Output2_pred<br>C=8000<br>A=50<br>D=%{x}<br>value=%{y}<extra></extra>",
         "legendgroup": "Output2_pred",
         "marker": {
          "color": "#EF553B",
          "symbol": "circle"
         },
         "mode": "markers",
         "name": "Output2_pred",
         "orientation": "v",
         "showlegend": false,
         "type": "scatter",
         "x": [
          70,
          30,
          110,
          90,
          50
         ],
         "xaxis": "x",
         "y": [
          18.15262499999999,
          3.574250000000004,
          31.64802499999998,
          27.78842500000001,
          13.69210000000001
         ],
         "yaxis": "y"
        },
        {
         "hovertemplate": "variable=Output2_pred<br>C=8000<br>A=75<br>D=%{x}<br>value=%{y}<extra></extra>",
         "legendgroup": "Output2_pred",
         "marker": {
          "color": "#EF553B",
          "symbol": "circle"
         },
         "mode": "markers",
         "name": "Output2_pred",
         "orientation": "v",
         "showlegend": false,
         "type": "scatter",
         "x": [
          70,
          50,
          90,
          110,
          30
         ],
         "xaxis": "x2",
         "y": [
          21.32570000000001,
          12.80777500000001,
          27.71902499999998,
          31.37439999999999,
          3.656225000000003
         ],
         "yaxis": "y2"
        },
        {
         "hovertemplate": "variable=Output2_pred<br>C=8000<br>A=100<br>D=%{x}<br>value=%{y}<extra></extra>",
         "legendgroup": "Output2_pred",
         "marker": {
          "color": "#EF553B",
          "symbol": "circle"
         },
         "mode": "markers",
         "name": "Output2_pred",
         "orientation": "v",
         "showlegend": false,
         "type": "scatter",
         "x": [
          50,
          30,
          90,
          110,
          70
         ],
         "xaxis": "x3",
         "y": [
          14.27832500000001,
          3.928725000000001,
          29.766775,
          32.95087499999998,
          22.81850000000002
         ],
         "yaxis": "y3"
        }
       ],
       "layout": {
        "annotations": [
         {
          "font": {},
          "showarrow": false,
          "text": "A=50",
          "x": 0.13,
          "xanchor": "center",
          "xref": "paper",
          "y": 1,
          "yanchor": "bottom",
          "yref": "paper"
         },
         {
          "font": {},
          "showarrow": false,
          "text": "A=75",
          "x": 0.49,
          "xanchor": "center",
          "xref": "paper",
          "y": 1,
          "yanchor": "bottom",
          "yref": "paper"
         },
         {
          "font": {},
          "showarrow": false,
          "text": "A=100",
          "x": 0.85,
          "xanchor": "center",
          "xref": "paper",
          "y": 1,
          "yanchor": "bottom",
          "yref": "paper"
         },
         {
          "font": {},
          "showarrow": false,
          "text": "C=8000",
          "textangle": 90,
          "x": 0.98,
          "xanchor": "left",
          "xref": "paper",
          "y": 0.14666666666666667,
          "yanchor": "middle",
          "yref": "paper"
         },
         {
          "font": {},
          "showarrow": false,
          "text": "C=3880",
          "textangle": 90,
          "x": 0.98,
          "xanchor": "left",
          "xref": "paper",
          "y": 0.5,
          "yanchor": "middle",
          "yref": "paper"
         },
         {
          "font": {},
          "showarrow": false,
          "text": "C=240",
          "textangle": 90,
          "x": 0.98,
          "xanchor": "left",
          "xref": "paper",
          "y": 0.8533333333333333,
          "yanchor": "middle",
          "yref": "paper"
         }
        ],
        "height": 1000,
        "legend": {
         "title": {
          "text": "variable"
         },
         "tracegroupgap": 0
        },
        "template": {
         "data": {
          "bar": [
           {
            "error_x": {
             "color": "#2a3f5f"
            },
            "error_y": {
             "color": "#2a3f5f"
            },
            "marker": {
             "line": {
              "color": "#E5ECF6",
              "width": 0.5
             },
             "pattern": {
              "fillmode": "overlay",
              "size": 10,
              "solidity": 0.2
             }
            },
            "type": "bar"
           }
          ],
          "barpolar": [
           {
            "marker": {
             "line": {
              "color": "#E5ECF6",
              "width": 0.5
             },
             "pattern": {
              "fillmode": "overlay",
              "size": 10,
              "solidity": 0.2
             }
            },
            "type": "barpolar"
           }
          ],
          "carpet": [
           {
            "aaxis": {
             "endlinecolor": "#2a3f5f",
             "gridcolor": "white",
             "linecolor": "white",
             "minorgridcolor": "white",
             "startlinecolor": "#2a3f5f"
            },
            "baxis": {
             "endlinecolor": "#2a3f5f",
             "gridcolor": "white",
             "linecolor": "white",
             "minorgridcolor": "white",
             "startlinecolor": "#2a3f5f"
            },
            "type": "carpet"
           }
          ],
          "choropleth": [
           {
            "colorbar": {
             "outlinewidth": 0,
             "ticks": ""
            },
            "type": "choropleth"
           }
          ],
          "contour": [
           {
            "colorbar": {
             "outlinewidth": 0,
             "ticks": ""
            },
            "colorscale": [
             [
              0,
              "#0d0887"
             ],
             [
              0.1111111111111111,
              "#46039f"
             ],
             [
              0.2222222222222222,
              "#7201a8"
             ],
             [
              0.3333333333333333,
              "#9c179e"
             ],
             [
              0.4444444444444444,
              "#bd3786"
             ],
             [
              0.5555555555555556,
              "#d8576b"
             ],
             [
              0.6666666666666666,
              "#ed7953"
             ],
             [
              0.7777777777777778,
              "#fb9f3a"
             ],
             [
              0.8888888888888888,
              "#fdca26"
             ],
             [
              1,
              "#f0f921"
             ]
            ],
            "type": "contour"
           }
          ],
          "contourcarpet": [
           {
            "colorbar": {
             "outlinewidth": 0,
             "ticks": ""
            },
            "type": "contourcarpet"
           }
          ],
          "heatmap": [
           {
            "colorbar": {
             "outlinewidth": 0,
             "ticks": ""
            },
            "colorscale": [
             [
              0,
              "#0d0887"
             ],
             [
              0.1111111111111111,
              "#46039f"
             ],
             [
              0.2222222222222222,
              "#7201a8"
             ],
             [
              0.3333333333333333,
              "#9c179e"
             ],
             [
              0.4444444444444444,
              "#bd3786"
             ],
             [
              0.5555555555555556,
              "#d8576b"
             ],
             [
              0.6666666666666666,
              "#ed7953"
             ],
             [
              0.7777777777777778,
              "#fb9f3a"
             ],
             [
              0.8888888888888888,
              "#fdca26"
             ],
             [
              1,
              "#f0f921"
             ]
            ],
            "type": "heatmap"
           }
          ],
          "heatmapgl": [
           {
            "colorbar": {
             "outlinewidth": 0,
             "ticks": ""
            },
            "colorscale": [
             [
              0,
              "#0d0887"
             ],
             [
              0.1111111111111111,
              "#46039f"
             ],
             [
              0.2222222222222222,
              "#7201a8"
             ],
             [
              0.3333333333333333,
              "#9c179e"
             ],
             [
              0.4444444444444444,
              "#bd3786"
             ],
             [
              0.5555555555555556,
              "#d8576b"
             ],
             [
              0.6666666666666666,
              "#ed7953"
             ],
             [
              0.7777777777777778,
              "#fb9f3a"
             ],
             [
              0.8888888888888888,
              "#fdca26"
             ],
             [
              1,
              "#f0f921"
             ]
            ],
            "type": "heatmapgl"
           }
          ],
          "histogram": [
           {
            "marker": {
             "pattern": {
              "fillmode": "overlay",
              "size": 10,
              "solidity": 0.2
             }
            },
            "type": "histogram"
           }
          ],
          "histogram2d": [
           {
            "colorbar": {
             "outlinewidth": 0,
             "ticks": ""
            },
            "colorscale": [
             [
              0,
              "#0d0887"
             ],
             [
              0.1111111111111111,
              "#46039f"
             ],
             [
              0.2222222222222222,
              "#7201a8"
             ],
             [
              0.3333333333333333,
              "#9c179e"
             ],
             [
              0.4444444444444444,
              "#bd3786"
             ],
             [
              0.5555555555555556,
              "#d8576b"
             ],
             [
              0.6666666666666666,
              "#ed7953"
             ],
             [
              0.7777777777777778,
              "#fb9f3a"
             ],
             [
              0.8888888888888888,
              "#fdca26"
             ],
             [
              1,
              "#f0f921"
             ]
            ],
            "type": "histogram2d"
           }
          ],
          "histogram2dcontour": [
           {
            "colorbar": {
             "outlinewidth": 0,
             "ticks": ""
            },
            "colorscale": [
             [
              0,
              "#0d0887"
             ],
             [
              0.1111111111111111,
              "#46039f"
             ],
             [
              0.2222222222222222,
              "#7201a8"
             ],
             [
              0.3333333333333333,
              "#9c179e"
             ],
             [
              0.4444444444444444,
              "#bd3786"
             ],
             [
              0.5555555555555556,
              "#d8576b"
             ],
             [
              0.6666666666666666,
              "#ed7953"
             ],
             [
              0.7777777777777778,
              "#fb9f3a"
             ],
             [
              0.8888888888888888,
              "#fdca26"
             ],
             [
              1,
              "#f0f921"
             ]
            ],
            "type": "histogram2dcontour"
           }
          ],
          "mesh3d": [
           {
            "colorbar": {
             "outlinewidth": 0,
             "ticks": ""
            },
            "type": "mesh3d"
           }
          ],
          "parcoords": [
           {
            "line": {
             "colorbar": {
              "outlinewidth": 0,
              "ticks": ""
             }
            },
            "type": "parcoords"
           }
          ],
          "pie": [
           {
            "automargin": true,
            "type": "pie"
           }
          ],
          "scatter": [
           {
            "fillpattern": {
             "fillmode": "overlay",
             "size": 10,
             "solidity": 0.2
            },
            "type": "scatter"
           }
          ],
          "scatter3d": [
           {
            "line": {
             "colorbar": {
              "outlinewidth": 0,
              "ticks": ""
             }
            },
            "marker": {
             "colorbar": {
              "outlinewidth": 0,
              "ticks": ""
             }
            },
            "type": "scatter3d"
           }
          ],
          "scattercarpet": [
           {
            "marker": {
             "colorbar": {
              "outlinewidth": 0,
              "ticks": ""
             }
            },
            "type": "scattercarpet"
           }
          ],
          "scattergeo": [
           {
            "marker": {
             "colorbar": {
              "outlinewidth": 0,
              "ticks": ""
             }
            },
            "type": "scattergeo"
           }
          ],
          "scattergl": [
           {
            "marker": {
             "colorbar": {
              "outlinewidth": 0,
              "ticks": ""
             }
            },
            "type": "scattergl"
           }
          ],
          "scattermapbox": [
           {
            "marker": {
             "colorbar": {
              "outlinewidth": 0,
              "ticks": ""
             }
            },
            "type": "scattermapbox"
           }
          ],
          "scatterpolar": [
           {
            "marker": {
             "colorbar": {
              "outlinewidth": 0,
              "ticks": ""
             }
            },
            "type": "scatterpolar"
           }
          ],
          "scatterpolargl": [
           {
            "marker": {
             "colorbar": {
              "outlinewidth": 0,
              "ticks": ""
             }
            },
            "type": "scatterpolargl"
           }
          ],
          "scatterternary": [
           {
            "marker": {
             "colorbar": {
              "outlinewidth": 0,
              "ticks": ""
             }
            },
            "type": "scatterternary"
           }
          ],
          "surface": [
           {
            "colorbar": {
             "outlinewidth": 0,
             "ticks": ""
            },
            "colorscale": [
             [
              0,
              "#0d0887"
             ],
             [
              0.1111111111111111,
              "#46039f"
             ],
             [
              0.2222222222222222,
              "#7201a8"
             ],
             [
              0.3333333333333333,
              "#9c179e"
             ],
             [
              0.4444444444444444,
              "#bd3786"
             ],
             [
              0.5555555555555556,
              "#d8576b"
             ],
             [
              0.6666666666666666,
              "#ed7953"
             ],
             [
              0.7777777777777778,
              "#fb9f3a"
             ],
             [
              0.8888888888888888,
              "#fdca26"
             ],
             [
              1,
              "#f0f921"
             ]
            ],
            "type": "surface"
           }
          ],
          "table": [
           {
            "cells": {
             "fill": {
              "color": "#EBF0F8"
             },
             "line": {
              "color": "white"
             }
            },
            "header": {
             "fill": {
              "color": "#C8D4E3"
             },
             "line": {
              "color": "white"
             }
            },
            "type": "table"
           }
          ]
         },
         "layout": {
          "annotationdefaults": {
           "arrowcolor": "#2a3f5f",
           "arrowhead": 0,
           "arrowwidth": 1
          },
          "autotypenumbers": "strict",
          "coloraxis": {
           "colorbar": {
            "outlinewidth": 0,
            "ticks": ""
           }
          },
          "colorscale": {
           "diverging": [
            [
             0,
             "#8e0152"
            ],
            [
             0.1,
             "#c51b7d"
            ],
            [
             0.2,
             "#de77ae"
            ],
            [
             0.3,
             "#f1b6da"
            ],
            [
             0.4,
             "#fde0ef"
            ],
            [
             0.5,
             "#f7f7f7"
            ],
            [
             0.6,
             "#e6f5d0"
            ],
            [
             0.7,
             "#b8e186"
            ],
            [
             0.8,
             "#7fbc41"
            ],
            [
             0.9,
             "#4d9221"
            ],
            [
             1,
             "#276419"
            ]
           ],
           "sequential": [
            [
             0,
             "#0d0887"
            ],
            [
             0.1111111111111111,
             "#46039f"
            ],
            [
             0.2222222222222222,
             "#7201a8"
            ],
            [
             0.3333333333333333,
             "#9c179e"
            ],
            [
             0.4444444444444444,
             "#bd3786"
            ],
            [
             0.5555555555555556,
             "#d8576b"
            ],
            [
             0.6666666666666666,
             "#ed7953"
            ],
            [
             0.7777777777777778,
             "#fb9f3a"
            ],
            [
             0.8888888888888888,
             "#fdca26"
            ],
            [
             1,
             "#f0f921"
            ]
           ],
           "sequentialminus": [
            [
             0,
             "#0d0887"
            ],
            [
             0.1111111111111111,
             "#46039f"
            ],
            [
             0.2222222222222222,
             "#7201a8"
            ],
            [
             0.3333333333333333,
             "#9c179e"
            ],
            [
             0.4444444444444444,
             "#bd3786"
            ],
            [
             0.5555555555555556,
             "#d8576b"
            ],
            [
             0.6666666666666666,
             "#ed7953"
            ],
            [
             0.7777777777777778,
             "#fb9f3a"
            ],
            [
             0.8888888888888888,
             "#fdca26"
            ],
            [
             1,
             "#f0f921"
            ]
           ]
          },
          "colorway": [
           "#636efa",
           "#EF553B",
           "#00cc96",
           "#ab63fa",
           "#FFA15A",
           "#19d3f3",
           "#FF6692",
           "#B6E880",
           "#FF97FF",
           "#FECB52"
          ],
          "font": {
           "color": "#2a3f5f"
          },
          "geo": {
           "bgcolor": "white",
           "lakecolor": "white",
           "landcolor": "#E5ECF6",
           "showlakes": true,
           "showland": true,
           "subunitcolor": "white"
          },
          "hoverlabel": {
           "align": "left"
          },
          "hovermode": "closest",
          "mapbox": {
           "style": "light"
          },
          "paper_bgcolor": "white",
          "plot_bgcolor": "#E5ECF6",
          "polar": {
           "angularaxis": {
            "gridcolor": "white",
            "linecolor": "white",
            "ticks": ""
           },
           "bgcolor": "#E5ECF6",
           "radialaxis": {
            "gridcolor": "white",
            "linecolor": "white",
            "ticks": ""
           }
          },
          "scene": {
           "xaxis": {
            "backgroundcolor": "#E5ECF6",
            "gridcolor": "white",
            "gridwidth": 2,
            "linecolor": "white",
            "showbackground": true,
            "ticks": "",
            "zerolinecolor": "white"
           },
           "yaxis": {
            "backgroundcolor": "#E5ECF6",
            "gridcolor": "white",
            "gridwidth": 2,
            "linecolor": "white",
            "showbackground": true,
            "ticks": "",
            "zerolinecolor": "white"
           },
           "zaxis": {
            "backgroundcolor": "#E5ECF6",
            "gridcolor": "white",
            "gridwidth": 2,
            "linecolor": "white",
            "showbackground": true,
            "ticks": "",
            "zerolinecolor": "white"
           }
          },
          "shapedefaults": {
           "line": {
            "color": "#2a3f5f"
           }
          },
          "ternary": {
           "aaxis": {
            "gridcolor": "white",
            "linecolor": "white",
            "ticks": ""
           },
           "baxis": {
            "gridcolor": "white",
            "linecolor": "white",
            "ticks": ""
           },
           "bgcolor": "#E5ECF6",
           "caxis": {
            "gridcolor": "white",
            "linecolor": "white",
            "ticks": ""
           }
          },
          "title": {
           "x": 0.05
          },
          "xaxis": {
           "automargin": true,
           "gridcolor": "white",
           "linecolor": "white",
           "ticks": "",
           "title": {
            "standoff": 15
           },
           "zerolinecolor": "white",
           "zerolinewidth": 2
          },
          "yaxis": {
           "automargin": true,
           "gridcolor": "white",
           "linecolor": "white",
           "ticks": "",
           "title": {
            "standoff": 15
           },
           "zerolinecolor": "white",
           "zerolinewidth": 2
          }
         }
        },
        "title": {
         "text": "Design Optimization"
        },
        "width": 1000,
        "xaxis": {
         "anchor": "y",
         "domain": [
          0,
          0.26
         ],
         "range": [
          0,
          120
         ],
         "title": {
          "text": "D"
         }
        },
        "xaxis2": {
         "anchor": "y2",
         "domain": [
          0.36,
          0.62
         ],
         "matches": "x",
         "range": [
          0,
          120
         ],
         "title": {
          "text": "D"
         }
        },
        "xaxis3": {
         "anchor": "y3",
         "domain": [
          0.72,
          0.98
         ],
         "matches": "x",
         "range": [
          0,
          120
         ],
         "title": {
          "text": "D"
         }
        },
        "xaxis4": {
         "anchor": "y4",
         "domain": [
          0,
          0.26
         ],
         "matches": "x",
         "showticklabels": false
        },
        "xaxis5": {
         "anchor": "y5",
         "domain": [
          0.36,
          0.62
         ],
         "matches": "x",
         "showticklabels": false
        },
        "xaxis6": {
         "anchor": "y6",
         "domain": [
          0.72,
          0.98
         ],
         "matches": "x",
         "showticklabels": false
        },
        "xaxis7": {
         "anchor": "y7",
         "domain": [
          0,
          0.26
         ],
         "matches": "x",
         "showticklabels": false
        },
        "xaxis8": {
         "anchor": "y8",
         "domain": [
          0.36,
          0.62
         ],
         "matches": "x",
         "showticklabels": false
        },
        "xaxis9": {
         "anchor": "y9",
         "domain": [
          0.72,
          0.98
         ],
         "matches": "x",
         "showticklabels": false
        },
        "yaxis": {
         "anchor": "x",
         "domain": [
          0,
          0.29333333333333333
         ],
         "range": [
          0,
          70
         ],
         "title": {
          "text": "value"
         }
        },
        "yaxis2": {
         "anchor": "x2",
         "domain": [
          0,
          0.29333333333333333
         ],
         "matches": "y",
         "showticklabels": false
        },
        "yaxis3": {
         "anchor": "x3",
         "domain": [
          0,
          0.29333333333333333
         ],
         "matches": "y",
         "showticklabels": false
        },
        "yaxis4": {
         "anchor": "x4",
         "domain": [
          0.35333333333333333,
          0.6466666666666667
         ],
         "matches": "y",
         "title": {
          "text": "value"
         }
        },
        "yaxis5": {
         "anchor": "x5",
         "domain": [
          0.35333333333333333,
          0.6466666666666667
         ],
         "matches": "y",
         "showticklabels": false
        },
        "yaxis6": {
         "anchor": "x6",
         "domain": [
          0.35333333333333333,
          0.6466666666666667
         ],
         "matches": "y",
         "showticklabels": false
        },
        "yaxis7": {
         "anchor": "x7",
         "domain": [
          0.7066666666666667,
          1
         ],
         "matches": "y",
         "title": {
          "text": "value"
         }
        },
        "yaxis8": {
         "anchor": "x8",
         "domain": [
          0.7066666666666667,
          1
         ],
         "matches": "y",
         "showticklabels": false
        },
        "yaxis9": {
         "anchor": "x9",
         "domain": [
          0.7066666666666667,
          1
         ],
         "matches": "y",
         "showticklabels": false
        }
       }
      }
     },
     "metadata": {},
     "output_type": "display_data"
    }
   ],
   "source": [
    "graph.scatter_plot(x = 'D', y = ['Output2', 'Output2_pred'], col = 'A', row = 'C', orders = {'A': [50, 75, 100],'C': [240,3880,8000]}, title = 'Design Optimization')"
   ]
  },
  {
   "cell_type": "code",
   "execution_count": 6,
   "metadata": {},
   "outputs": [
    {
     "data": {
      "image/png": "[encoded data removed]",
      "text/plain": [
       "<Figure size 800x270 with 2 Axes>"
      ]
     },
     "metadata": {},
     "output_type": "display_data"
    }
   ],
   "source": [
    "from sklearn.ensemble import RandomForestRegressor\n",
    "# Shap analysis and centroids\n",
    "graph.SHAP_analysis(target ='Output1', estimator = RandomForestRegressor(n_estimators=100, random_state=42))\n",
    "shap_values_target_1 = graph.shap_values\n",
    "graph.biplot_centroids()\n",
    "feature_target1 = graph.features_target1    "
   ]
  },
  {
   "cell_type": "code",
   "execution_count": 7,
   "metadata": {},
   "outputs": [
    {
     "data": {
      "image/png": "[encoded data removed]",
      "text/plain": [
       "<Figure size 800x270 with 2 Axes>"
      ]
     },
     "metadata": {},
     "output_type": "display_data"
    }
   ],
   "source": [
    "graph.SHAP_analysis(target ='Output2', estimator = RandomForestRegressor(n_estimators=100, random_state=42))\n",
    "shap_values_target_2 = graph.shap_values\n",
    "graph.biplot_centroids()\n",
    "feature_target2 = graph.features_target1"
   ]
  },
  {
   "cell_type": "code",
   "execution_count": 8,
   "metadata": {},
   "outputs": [
    {
     "data": {
      "image/png": "[encoded data removed]",
      "text/plain": [
       "<Figure size 640x480 with 1 Axes>"
      ]
     },
     "metadata": {},
     "output_type": "display_data"
    }
   ],
   "source": [
    "graph.biplot_features(shap_values_target_1 = shap_values_target_1, shap_values_target_2 = shap_values_target_2, features_target1 = feature_target1, features_target2 = feature_target2, title= 'Biplot analysis', colors_x =['b','m','green'], colors_points = ['c','violet','y'])"
   ]
  }
 ],
 "metadata": {
  "kernelspec": {
   "display_name": "laser_opt",
   "language": "python",
   "name": "python3"
  },
  "language_info": {
   "codemirror_mode": {
    "name": "ipython",
    "version": 3
   },
   "file_extension": ".py",
   "mimetype": "text/x-python",
   "name": "python",
   "nbconvert_exporter": "python",
   "pygments_lexer": "ipython3",
   "version": "3.11.9"
  }
 },
 "nbformat": 4,
 "nbformat_minor": 2
}
