{
 "cells": [
  {
   "cell_type": "markdown",
   "metadata": {},
   "source": [
    "## Model Interface (Regressor)\n",
    "\n",
    "This notebook is designed to facilitate the use of AIDOX - Module II: Regression task\\\n",
    "No changes need to be made to the DataTrainingInterface and ModelRegressorInterface classes\\\n",
    "**The user is invited to run the following cells** to visualize the expected results obtained according to _opt_models_pydantic.yml_ file"
   ]
  },
  {
   "cell_type": "code",
   "execution_count": 7,
   "metadata": {},
   "outputs": [],
   "source": [
    "import yaml\n",
    "import pandas as pd\n",
    "from aidox.optimization.handler_model import Regressor\n",
    "from aidox.models.pydantic_models_training import InputFeature, OutputFeature, DataModel, ModelTraining"
   ]
  },
  {
   "cell_type": "code",
   "execution_count": null,
   "metadata": {},
   "outputs": [],
   "source": [
    "with open ('../../../configs/opt_models_pydantic.yml', 'r') as model_config:\n",
    "    model_cont = yaml.safe_load(model_config)\n",
    "\n",
    "class DataTrainingInterface():\n",
    "    \"\"\" \n",
    "    This class reads the given yaml configuration file and \n",
    "    returns the corresponding ModelTraining object\n",
    "        \n",
    "    :param data_train_path: yaml configuration file path\n",
    "    :return: DataModel object\n",
    "    \"\"\"\n",
    "    def __init__(self,data_train_path):\n",
    "        with open(data_train_path, 'r') as model_config:\n",
    "            data_train_cont = yaml.safe_load(model_config)\n",
    "        self.dataframe = self.__init_df(data_train_cont)\n",
    "        self.input_list = self.__init_inputs(data_train_cont)\n",
    "        self.output_list = self.__init_outputs(data_train_cont)\n",
    "    def __call__(self):\n",
    "        return DataModel(dataframe= self.dataframe, input_vars=self.input_list, output_vars=self.output_list)\n",
    "    def __init_df(self, data_train_cont:dict) -> pd.DataFrame:\n",
    "        dataframe = data_train_cont['dataframe']\n",
    "        return dataframe\n",
    "    def __init_inputs(self, data_train_cont:dict) -> list[InputFeature]:\n",
    "        list_of_input_dicts = data_train_cont['input_vars']\n",
    "        return [InputFeature(**variable) for variable in list_of_input_dicts]\n",
    "    def __init_outputs(self, data_train_cont:dict) -> list[OutputFeature]:\n",
    "        list_of_output_dicts = data_train_cont['output_vars']\n",
    "        return [OutputFeature(**variable) for variable in list_of_output_dicts]\n",
    "\n",
    "class ModelRegressorInterface():\n",
    "    \"\"\" \n",
    "    This class reads the given yaml configuration file and \n",
    "    returns the corresponding ModelTraining object\n",
    "        \n",
    "    :param model_path: yaml configuration file path\n",
    "    :return: ModelTraining object\n",
    "    \"\"\"\n",
    "    def __init__(self, model_path):\n",
    "        with open(model_path, 'r') as model_config:\n",
    "            model_cont = yaml.safe_load(model_config)\n",
    "        self.model_name = self.__init_model_name(model_cont)\n",
    "        self.model_params = self.__init_model_params(model_cont)\n",
    "        self.param_grid = self.__init_param_grid(model_cont)\n",
    "\n",
    "    def __call__(self):\n",
    "        return ModelTraining(model_name = self.model_name, model_params =self.model_params, param_grid =self.param_grid)\n",
    "    def __init_model_name(self, model_cont:dict) -> dict[str,str]:\n",
    "        model_name = model_cont['model_name']\n",
    "        return model_name\n",
    "    def __init_model_params(self, model_cont:dict) -> dict[str,dict]:\n",
    "        model_params = model_cont['model_params']\n",
    "        return model_params\n",
    "    def __init_param_grid(self, model_cont:dict) -> dict[str,dict]:\n",
    "        param_grid = model_cont['param_grid']\n",
    "        return param_grid\n"
   ]
  },
  {
   "cell_type": "code",
   "execution_count": 11,
   "metadata": {},
   "outputs": [
    {
     "name": "stdout",
     "output_type": "stream",
     "text": [
      "estimator:  RandomForestRegressor\n",
      "best_params:  {'criterion': 'friedman_mse', 'max_depth': 32, 'n_estimators': 80}\n",
      "======================================================================\n",
      "score_train: 0.9789381148291971\n",
      "score_test: 0.7739762219694404\n",
      "======================================================================\n",
      "MSE_train: 1.2829299218270183\n",
      "MSE_test: 4.327486502693711\n",
      "======================================================================\n"
     ]
    }
   ],
   "source": [
    "data_model = DataTrainingInterface('../../../configs/opt_models_pydantic.yml')()\n",
    "model_regressor = ModelRegressorInterface('../../../configs/opt_models_pydantic.yml')()\n",
    "regressor = Regressor(datamodel = data_model, model_training= model_regressor)\n",
    "regressor.train_test_split(method= 'standard')\n",
    "regressor.model_prediction()"
   ]
  },
  {
   "cell_type": "code",
   "execution_count": null,
   "metadata": {},
   "outputs": [],
   "source": []
  }
 ],
 "metadata": {
  "kernelspec": {
   "display_name": "laser_opt",
   "language": "python",
   "name": "python3"
  },
  "language_info": {
   "codemirror_mode": {
    "name": "ipython",
    "version": 3
   },
   "file_extension": ".py",
   "mimetype": "text/x-python",
   "name": "python",
   "nbconvert_exporter": "python",
   "pygments_lexer": "ipython3",
   "version": "3.11.9"
  }
 },
 "nbformat": 4,
 "nbformat_minor": 2
}
